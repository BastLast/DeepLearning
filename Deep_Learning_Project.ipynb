{
  "nbformat": 4,
  "nbformat_minor": 0,
  "metadata": {
    "colab": {
      "name": "GIRARDIN-LASTEYRIE-SENET - Image recovery.ipynb",
      "provenance": [],
      "collapsed_sections": [],
      "include_colab_link": true
    },
    "kernelspec": {
      "name": "python3",
      "display_name": "Python 3"
    },
    "language_info": {
      "name": "python"
    }
  },
  "cells": [
    {
      "cell_type": "markdown",
      "metadata": {
        "id": "view-in-github",
        "colab_type": "text"
      },
      "source": [
        "<a href=\"https://colab.research.google.com/github/BastLast/DeepLearning/blob/main/image_recovery.ipynb\" target=\"_parent\"><img src=\"https://colab.research.google.com/assets/colab-badge.svg\" alt=\"Open In Colab\"/></a>"
      ]
    },
    {
      "cell_type": "markdown",
      "metadata": {
        "id": "IcfPiFx6WvGI"
      },
      "source": [
        "Coucou"
      ]
    },
    {
      "cell_type": "code",
      "metadata": {
        "id": "06WYskWBVnw5"
      },
      "source": [
        "import torch\n",
        "import torch.nn as nn\n",
        "import torch.nn.functional as F\n",
        "from torchvision import transforms\n",
        "from torchvision import models\n",
        "\n",
        "import time"
      ],
      "execution_count": null,
      "outputs": []
    },
    {
      "cell_type": "code",
      "metadata": {
        "id": "K34c7QhLYN7C"
      },
      "source": [
        "class CustomModel(torch.nn.Module):\n",
        "\n",
        "  def __init__(self):\n",
        "    super(LeNet5, self).__init__()\n",
        "\t\t# initialize first set of CONV => RELU => POOL layers\n",
        "    self.conv1 = torch.nn.Conv2d(in_channels=1, out_channels=6, kernel_size=(5,5), stride=1, padding=2, bias=False)\n",
        "    self.relu1 = torch.nn.ReLU()\n",
        "    self.avgpool1 = torch.nn.AvgPool2d(2, stride=2)\n",
        "    # initialize second set of CONV => RELU => POOL layers\n",
        "    self.conv2 = torch.nn.Conv2d(in_channels=6, out_channels=16, kernel_size=(5,5), stride=1, padding=0, bias=False)\n",
        "    self.relu2 = torch.nn.ReLU()\n",
        "    self.avgpool2 = torch.nn.AvgPool2d(2, stride=2)\n",
        "    # initialize third set of CONV => RELU\n",
        "    self.conv3 = torch.nn.Conv2d(in_channels=16, out_channels=120, kernel_size=(5,5), stride=1, padding=0, bias=False)\n",
        "    self.relu3 = torch.nn.ReLU()\n",
        "    # initialize first set of linear => RELU layers\n",
        "    self.flatten = torch.nn.Flatten()\n",
        "    self.f1 = torch.nn.Linear(in_features=120, out_features=84)\n",
        "    self.relu4 = torch.nn.ReLU()\n",
        "    # initialize second set of linear\n",
        "    self.f2 = torch.nn.Linear(in_features=84, out_features=10)\n",
        "    pass\n",
        "  \n",
        "  def forward(self, x):\n",
        "    \"\"\"\n",
        "      :param: x : the image to process ( shape [batch_size, 1, height, width] )\n",
        "      :return: logits: the unscaled output scores that will be process by the softmax ( shape [batch_size, D_out] )\n",
        "    \"\"\"\n",
        "    # pass the input through our first set of CONV => RELU =>\n",
        "\t\t# POOL layers\n",
        "    x = self.conv1(x)\n",
        "    x = self.relu1(x)\n",
        "    x = self.avgpool1(x)\n",
        "    # pass the output from the previous layer through the second\n",
        "    # set of CONV => RELU => POOL layers\n",
        "    x = self.conv2(x)\n",
        "    x = self.relu2(x)\n",
        "    x = self.avgpool2(x)\n",
        "    # pass the output from the previous layer through the third\n",
        "    # set of CONV => RELU => POOL layers\n",
        "    x = self.conv3(x)\n",
        "    x = self.relu3(x)\n",
        "    # flatten the output from the previous layer and pass it\n",
        "    # through our first set of linear\n",
        "    x = self.flatten(x)\n",
        "    x = self.f1(x)\n",
        "    x = self.relu4(x)\n",
        "    # pass the output to our second set of linear\n",
        "    # predictions\n",
        "    x = self.f2(x)\n",
        "    # return the output predictions\n",
        "    return x"
      ],
      "execution_count": null,
      "outputs": []
    }
  ]
}
